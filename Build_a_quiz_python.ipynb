{
 "cells": [
  {
   "cell_type": "markdown",
   "metadata": {},
   "source": [
    "# Let build a quiz:\n",
    "Write a program that:\n",
    "\n",
    "    1. Asks three questions to a user via the console\n",
    "    2. Verifies whether the answer is correct or not. If the answer is correct, you should print out: Good job! This is the right answer. Else, it should print out : Too bad! that is not the correct answer\n",
    "\n",
    "    3. We would rather like to ask again the same question if the answer was wrong. Using a while loop, make sure that the same question will be asked again when the answer was wrong.\n",
    "    4. We want to allow only 3 wrong answers (among all questions). If the user makes 3 wrong answers, the program should stop and print (\"Too bad, you lost the game !\")\n"
   ]
  },
  {
   "cell_type": "markdown",
   "metadata": {},
   "source": [
    "# Solutinon:"
   ]
  },
  {
   "cell_type": "code",
   "execution_count": 5,
   "metadata": {},
   "outputs": [],
   "source": [
    "from unidecode import unidecode\n",
    "def dry_code(key):\n",
    "    answer = input(key,)\n",
    "    return  answer\n",
    "\n",
    "class quiz2():\n",
    "    def __init__(self, atempts):\n",
    "        self.atempts=atempts\n",
    "    \n",
    "    # store questions and answers in a dictionary\n",
    "    def enter_qns(self):\n",
    "        dic= {\"What is the one plus one? \":\"2\", \"What is the capital of Togo? \":\"lome\", \\\n",
    "              \"In which year is born Donald Trump? \":\"1946\"}\n",
    "        return dic    \n",
    "\n",
    "    def askqns(self)  :\n",
    "        i = 1        # for questions\n",
    "        atempt = 1   # for atempts\n",
    "        for key, value in self.enter_qns().items():\n",
    "            check = True\n",
    "            while check and atempt <=self.atempts:\n",
    "                answer = dry_code(key)\n",
    "                if unidecode(answer.lower()) == value:\n",
    "                    print(\"Congrats {} is the right answer\".format(value))\n",
    "                    check = False\n",
    "                    if i == len(self.enter_qns()):\n",
    "                        print(\"Well done, you have win!\")\n",
    "                    i += 1\n",
    "                else:\n",
    "                    if atempt < self.atempts:\n",
    "                        print(\"Sorry, you have {} chances left\".format(self.atempts-atempt))\n",
    "                        check = True \n",
    "                        atempt += 1\n",
    "                    else:\n",
    "                        print(\"Sorry, you lost the quiz\")\n",
    "                        atempt = self.atempts +1\n",
    "                        break\n",
    "                            \n",
    "## Start the quiz: quiz(number_of_lives) \n",
    "#quiz_test = quiz2(3)\n",
    "#quiz_test.askqns()"
   ]
  },
  {
   "cell_type": "code",
   "execution_count": null,
   "metadata": {},
   "outputs": [],
   "source": []
  }
 ],
 "metadata": {
  "kernelspec": {
   "display_name": "Python 3",
   "language": "python",
   "name": "python3"
  },
  "language_info": {
   "codemirror_mode": {
    "name": "ipython",
    "version": 3
   },
   "file_extension": ".py",
   "mimetype": "text/x-python",
   "name": "python",
   "nbconvert_exporter": "python",
   "pygments_lexer": "ipython3",
   "version": "3.8.5"
  }
 },
 "nbformat": 4,
 "nbformat_minor": 4
}
